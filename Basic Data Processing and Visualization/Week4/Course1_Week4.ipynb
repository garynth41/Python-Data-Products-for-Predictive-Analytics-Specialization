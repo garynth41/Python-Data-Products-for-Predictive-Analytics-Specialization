{
 "cells": [
  {
   "cell_type": "markdown",
   "metadata": {},
   "source": [
    "# Week 4: Python Libraries\n",
    "\n",
    "This week, we learned how to do basic operations with the numpy library, visualize data with Matplotlib, and gather data from the web using urllib and BeautifulSoup. Now let's practice these concepts to get a little more familiar with them."
   ]
  },
  {
   "cell_type": "markdown",
   "metadata": {},
   "source": [
    "## Part 1 : numpy\n",
    "\n",
    "Let's use numpy to perform a few simple matrix operations using a matrix we will create from an example data set. For this assignment, we'll be using a collection of data about Near-Earth asteroids and comets, via the NASA website. For brevity, we'll usually just call these NEOs (near-Earth objects).\n",
    "\n",
    "First, load the data from the provided JSON. Review week 2 and 3 homework assignments and lessons if you need help loading a JSON file."
   ]
  },
  {
   "cell_type": "code",
   "execution_count": 2,
   "metadata": {},
   "outputs": [],
   "source": [
    "# Here, we import the necessary libraries\n",
    "import numpy\n",
    "import json\n",
    "\n",
    "# Remember to change the file location if needed\n",
    "# Replace \"[ ENTER CODE HERE ]\" (including the brackets) with your solutions whenever it appears\n",
    "path = \"./datasets/near-earth-objects.json\"\n",
    "f = open(path)"
   ]
  },
  {
   "cell_type": "markdown",
   "metadata": {},
   "source": [
    "For this assignment, we'll load the JSON objects a little different than before. This time, we'll use the `for ___ in ___` syntax to add each line to the dataset. By doing it this way, if the length of the file changes but we still want to load the whole thing, we don't have to adjust how long the loop runs - it will just load data until there's no data to load. Recall that we have imported the `json` library!"
   ]
  },
  {
   "cell_type": "code",
   "execution_count": null,
   "metadata": {},
   "outputs": [],
   "source": [
    "dataset = []\n",
    "\n",
    "for asteroid in f:\n",
    "    [ ENTER CODE HERE ]\n",
    "\n",
    "# Let's print the first data item to see what our data looks like\n",
    "dataset[0]['q_au_2']"
   ]
  },
  {
   "cell_type": "markdown",
   "metadata": {},
   "source": [
    "The names of the data fields have been shortened to save space. Knowing what the properties are isn't necessary to complete this assignment, but when working with real data it can be important to know what each one is for many reasons. For example, in this dataset if you saw an `i_deg` with value `7000`, but didn't know what that field represented, you may not notice that it's not likely that an NEO's orbit would have a 7000 degree offset from Earth's orbit, since these angles only go up to 180, and so there may be a mistake in the data. \n",
    "\n",
    "If you're curious, the data fields are: \n",
    "\n",
    "- `h_mag` - the absolute magnitude, or how bright the asteroid would be if it were 1 Astronomical Unit (AU) away from both the Earth and the sun (1 AU = how far the Earth is from the Sun). \n",
    "\n",
    "- `i_deg` - the angle of offset that the object's orbit makes compared to the Earth's.\n",
    "\n",
    "- `moid_au` - (Minimum Orbit Intersection Distance) the closest distance the orbit of the object reaches to the orbit of the Earth (measured in AU).\n",
    "\n",
    "- `orbit_class` - the classification of orbit the NEO has. The main 3 you will see in this data are \"Atens\", \"Apollo\", and \"Amor\", named after prominent asteroids that have similar orbits.\n",
    "\n",
    "- `period_yr` - how long (in Earth years) the NEO takes to go around the Sun and make a full orbit.\n",
    "\n",
    "- `pha` - short for \"Potentially Hazardous Asteroid\", and so a `Y` or `N` indicates whether astronomers believe that this NEO has the potential for a harmful impact. (Don't worry, a `Y` doesn't mean it *will* collide - we just have to keep an eye on this asteroid)\n",
    "\n",
    "- `q_au_1` - the shortest distance the NEO's orbit makes with the Sun.\n",
    "\n",
    "- `q_au_2` - the longest distance the NEO's orbit makes with the Sun."
   ]
  },
  {
   "cell_type": "markdown",
   "metadata": {},
   "source": [
    "## Numpy arrays\n",
    "\n",
    "Now we'll create some numpy arrays for some of the data points for each near-Earth object to do some numpy operations on. Why don't we grab the `h_mag`, `moid_au`, and `period_yr` properties for every asteroid and put them each in their own numpy array. "
   ]
  },
  {
   "cell_type": "code",
   "execution_count": null,
   "metadata": {},
   "outputs": [],
   "source": [
    "# First, create a regular list of each of the 3 properties we want to collect:\n",
    "magnitude = [ ENTER CODE HERE ]\n",
    "MOID = [ ENTER CODE HERE ]\n",
    "orbital_period = [ ENTER CODE HERE ]\n",
    "\n",
    "# Now, convert them to numpy arrays:\n",
    "magnitude = numpy.array(magnitude).astype(numpy.float)\n",
    "MOID = numpy.array(MOID).astype(numpy.float)\n",
    "orbital_period = numpy.array(orbital_period).astype(numpy.float)\n",
    "\n",
    "# Let's print out one of the arrays to check out the data:\n",
    "magnitude"
   ]
  },
  {
   "cell_type": "markdown",
   "metadata": {},
   "source": [
    "### Statistical Operations\n",
    "\n",
    "Before we create and use matrices, let's process some of this data to gain some insight into our NEOs. Let's suppose we're interested in seeing the median magnitude, the standard deviation of all MOIDs, and the average orbital period. Luckily, numpy arrays support these operations natively. "
   ]
  },
  {
   "cell_type": "code",
   "execution_count": null,
   "metadata": {},
   "outputs": [],
   "source": [
    "# Review your lecture material to see how to do this - but you may also have to do some good old-fashioned Googling!\n",
    "print(\"Median Magnitude: \", [ ENTER CODE HERE ])"
   ]
  },
  {
   "cell_type": "code",
   "execution_count": null,
   "metadata": {},
   "outputs": [],
   "source": [
    "print(\"Standard Deviation for MOIDS: \", [ ENTER CODE HERE ])"
   ]
  },
  {
   "cell_type": "code",
   "execution_count": null,
   "metadata": {},
   "outputs": [],
   "source": [
    "print(\"Average Time to Orbit Sun: \", [ ENTER CODE HERE ])"
   ]
  },
  {
   "cell_type": "markdown",
   "metadata": {},
   "source": [
    "## Numpy Matrices\n",
    "\n",
    "Arrays are very useful in general, but we often want to work with our data in matrix form. Let's convert our 3 arrays to a matrix and perform some common linear algebra operations on them."
   ]
  },
  {
   "cell_type": "code",
   "execution_count": null,
   "metadata": {},
   "outputs": [],
   "source": [
    "# First, create an array of arrays named \"NEO_data\"\n",
    "\n",
    "NEO_data = [ ENTER CODE HERE ]\n",
    "\n",
    "NEO_data"
   ]
  },
  {
   "cell_type": "markdown",
   "metadata": {},
   "source": [
    "Now convert it to the numpy `matrix` type:"
   ]
  },
  {
   "cell_type": "code",
   "execution_count": null,
   "metadata": {},
   "outputs": [],
   "source": [
    "NEO_data = [ ENTER CODE HERE ]\n",
    "NEO_data"
   ]
  },
  {
   "cell_type": "markdown",
   "metadata": {},
   "source": [
    "Now that we have a numpy matrix, try doing some matrix multiplication. The matrix times its transpose comes up frequently when working with matrices, so let's do that for practice. "
   ]
  },
  {
   "cell_type": "code",
   "execution_count": null,
   "metadata": {},
   "outputs": [],
   "source": [
    "transpose_product = [ ENTER CODE HERE ]\n",
    "transpose_product"
   ]
  },
  {
   "cell_type": "markdown",
   "metadata": {},
   "source": [
    "Try getting the trace of the square matrix you just created. If you're unfamiliar with the trace of a matrix, it is the sum of the diagonal entries. While you *could* do this with a loop, numpy has a way to do this more easily."
   ]
  },
  {
   "cell_type": "code",
   "execution_count": null,
   "metadata": {},
   "outputs": [],
   "source": [
    "NEO_trace = [ ENTER CODE HERE ]\n",
    "NEO_trace"
   ]
  },
  {
   "cell_type": "markdown",
   "metadata": {},
   "source": [
    "Now that we're familiar with numpy and its basic operations, let's move on to visualizing the data. "
   ]
  },
  {
   "cell_type": "markdown",
   "metadata": {},
   "source": [
    "## Part 2 : Matplotlib\n",
    "\n",
    "When working with a large amount of data, it can also be very helpful to visualize it. With numpy, we were able to maniupulate the data and do various operations on it. However, even though large matrices and arrays are easy for a computer to understand, for us humans it can be hard to take in and process such a large amount of data. So let's try using Matplotlib to create some visuals to help us see things a little clearer. "
   ]
  },
  {
   "cell_type": "markdown",
   "metadata": {},
   "source": [
    "First, we'll do a simple graph. We can use our NEO magnitude data for our Y-axis, but we'll need an X-axis to plot it against. So let's create one by filling an array with the numbers 1 to the size of the magnitude array so every NEO is shown in our plots."
   ]
  },
  {
   "cell_type": "code",
   "execution_count": null,
   "metadata": {},
   "outputs": [],
   "source": [
    "# First we have to import the Matplotlib library - feel free to change the name after the 'as'\n",
    "import matplotlib.pyplot as matplt\n",
    "\n",
    "# Here's how to create an empty numpy array with a specific size\n",
    "xAxis = numpy.empty(magnitude.size)\n",
    "\n",
    "for i in range(magnitude.size):\n",
    "    xAxis[i] = i\n",
    "\n",
    "xAxis"
   ]
  },
  {
   "cell_type": "markdown",
   "metadata": {},
   "source": [
    "Now that we have an X-axis, let's make a plot of the magnitudes. Use whatever alias you chose for `matplotib` (i.e. from `import library as alias`) to perform its functions."
   ]
  },
  {
   "cell_type": "code",
   "execution_count": null,
   "metadata": {},
   "outputs": [],
   "source": [
    "# Remember that your x-axis should be the variable named \"xAxis\" and your y-axis should be the magnitude values\n",
    "[ ENTER CODE HERE ]"
   ]
  },
  {
   "cell_type": "markdown",
   "metadata": {},
   "source": [
    "This allows us to more easily visualize our data. But it's still a bit hectic, so let's sort the data with numpy and then create a bar plot. "
   ]
  },
  {
   "cell_type": "code",
   "execution_count": null,
   "metadata": {},
   "outputs": [],
   "source": [
    "# Create a copy of magnitude data sorted\n",
    "sortedMag = [ ENTER CODE HERE ]\n",
    "\n",
    "# Create a bar plot\n",
    "[ ENTER CODE HERE ]"
   ]
  },
  {
   "cell_type": "markdown",
   "metadata": {},
   "source": [
    "But we can see that all the data is pretty high up in the graph. We don't necessarily need to have the bar start at 0 since we can look at the graph and see that all the NEOs have magnitude between about 14 and 25. So let's limit our Y-axis to those values. While we're at it, let's title our graph and label our Y-axis so that scientists looking at our nice plot can get some idea of what they're looking at. "
   ]
  },
  {
   "cell_type": "code",
   "execution_count": null,
   "metadata": {},
   "outputs": [],
   "source": [
    "# First limit the axes\n",
    "[ ENTER CODE HERE ]\n",
    "\n",
    "# Then label the y-axis\n",
    "[ ENTER CODE HERE ]\n",
    "\n",
    "# Then title the graph\n",
    "[ ENTER CODE HERE ]\n",
    "\n",
    "# Now plot!\n",
    "[ ENTER CODE HERE ]"
   ]
  },
  {
   "cell_type": "markdown",
   "metadata": {},
   "source": [
    "## Part 3 : urllib and BeautifulSoup"
   ]
  },
  {
   "cell_type": "markdown",
   "metadata": {},
   "source": [
    "Now that we have some experience processing data with Python, let's practice collecting data. As you saw in the course slides, often when we collect data we do so by going through the `HTML` of a website and only taking the parts we need. As you can imagine, this can get tedious once you do it for more than a few web pages. So let's use the maagic of Python and urllib and BeautifulSoup to do all the legwork for us.\n",
    "\n",
    "Keeping with the space theme, let's gather reviews for the video game \"Kerbal Space Program\", from the review aggregator website Metacritic. This will be very similar to what you saw in the lecture slides, but we will have to make some modifications to gather the data from Metacritic since it has a different structure. "
   ]
  },
  {
   "cell_type": "code",
   "execution_count": null,
   "metadata": {},
   "outputs": [],
   "source": [
    "# We will have to get the html a little differently from your course slides \n",
    "# since Metacritic requires a specified user agent\n",
    "from urllib.request import Request, urlopen\n",
    "\n",
    "# Similar to your lecture slides, we will request the html from the site, but we also specify the second parameter,\n",
    "# the user agent\n",
    "req = Request(\"https://www.metacritic.com/game/pc/kerbal-space-program/user-reviews\", headers={'User-Agent': 'Mozilla/5.0'})\n",
    "\n",
    "# We read it like any other file\n",
    "html = str(urlopen(req).read())\n",
    "\n",
    "# Uncomment the next line if you want to see all the html we grab (it's a little hard to read unformatted)\n",
    "# html"
   ]
  },
  {
   "cell_type": "markdown",
   "metadata": {},
   "source": [
    "We can see that reviews are contained in blocks that begin with `<div class=\"review_grade\">`, so we'll use the `split` method to look for those blocks. "
   ]
  },
  {
   "cell_type": "code",
   "execution_count": null,
   "metadata": {},
   "outputs": [],
   "source": [
    "# Follow your slides for how to do this portion of the code\n",
    "reviews = [ ENTER CODE HERE ]\n",
    "len(reviews)"
   ]
  },
  {
   "cell_type": "markdown",
   "metadata": {},
   "source": [
    "Now let's gather the rating that each of these users gave the game (a scale from 1 to 10). We will do this similar to the slides you are given. "
   ]
  },
  {
   "cell_type": "code",
   "execution_count": null,
   "metadata": {},
   "outputs": [],
   "source": [
    "def parseReview(review):\n",
    "    d = {}\n",
    "    # To get the rating, we have to be careful.\n",
    "    # Not every rating has the same html classes right before the rating, but it does have the same html right after (a closing </div>).\n",
    "    # To get around this, we use split to just grab everything between the two tags, i.e. everything between > and </div>.\n",
    "    d['rating'] = review.split('>')[1].split('</div')[0]\n",
    "    return d\n",
    "\n",
    "reviewDict = [parseReview(r) for r in reviews]\n",
    "reviewDict"
   ]
  },
  {
   "cell_type": "markdown",
   "metadata": {},
   "source": [
    "And that's it! We've successfully extracted our own dataset from these user reviews! You are encouraged to modify the code to add more parameters, such as the display name of each reviewer, or gather the text portion of their review. For help with that, follow the lecture slides and use your knowledge of Python to modify the `parseReview()` method. You should also combine what you learned about urllib with the other parts of this HW. For example, try using matplotlib to visualize the ratings we collected."
   ]
  }
 ],
 "metadata": {
  "kernelspec": {
   "display_name": "Python 3",
   "language": "python",
   "name": "python3"
  },
  "language_info": {
   "codemirror_mode": {
    "name": "ipython",
    "version": 3
   },
   "file_extension": ".py",
   "mimetype": "text/x-python",
   "name": "python",
   "nbconvert_exporter": "python",
   "pygments_lexer": "ipython3",
   "version": "3.6.5"
  }
 },
 "nbformat": 4,
 "nbformat_minor": 2
}
