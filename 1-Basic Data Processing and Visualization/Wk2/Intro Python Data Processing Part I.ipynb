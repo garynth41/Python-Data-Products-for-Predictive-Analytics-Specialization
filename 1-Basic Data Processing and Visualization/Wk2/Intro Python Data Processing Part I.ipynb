{
 "cells": [
  {
   "cell_type": "markdown",
   "metadata": {},
   "source": [
    "### First let's read in our Amazon data into a list"
   ]
  },
  {
   "cell_type": "markdown",
   "metadata": {},
   "source": [
    "So, in this lecture, we're going to see how we can actually read JSON and CSV files into Python objects. Well, so far, we've seen how we can actually open those files using the csv.reader function or the JSON library. What do we actually do once we've opened the files? We'll also introduce some new libraries, in particular the gzip library, which is going to allow us to manipulate gzip files on the flier. So previously, we covered the basics of reading CSV and JSON files using a few different libraries."
   ]
  },
  {
   "cell_type": "markdown",
   "metadata": {},
   "source": [
    "So, the question is what comes next? How do we actually go from just opening those files into reading them into appropriate data structures? So, the first thing we're going to want to do, is just to read one of the files we've have been working with. In this case we'll look again at the Amazon Gift Card data, which is a TSV file. So far, we've been able to read it by doing something like, this importing the CSV library, specifying the path to the file, opening the file, providing that open file to the csv.reader library along with a delimited option. Then we can read the header and all of the lines in that file."
   ]
  },
  {
   "cell_type": "markdown",
   "metadata": {},
   "source": [
    "So, the questions we'd like to answer to extend that, are first, how are we going to be able to handle sort of large CSV or JSON files without having to unzip them? So far, we just operated on raw, CSV, TSV or JSON files, but many of the datasets we'll actually look at, would come zipped, can we exploit that to our advantage? Secondly, how do we actually extract relevant parts of the data for performing analysis? Often, we'll be looking at very large datasets, and not all parts of those datasets are relevant. So, how do we filter them or build a relevant subset of the data to work with? Third, what are some convenient data structures that we'll make accessing these types of data more convenient."
   ]
  },
  {
   "cell_type": "markdown",
   "metadata": {},
   "source": [
    "First, we'll look at the gzip library. Issue we might want to overcome sometimes is that we'll have very large CSV, TSV or JSON files that are going to be cumbersome to store on disk if we have to extract all of them beforehand. So, datasets like the ones we've been working with, the Amazon dataset actually comes in gziped format. So, is there some way we can work with that file without having to unzip it? That's exactly what the gzip library is going to do. So to read the file in gziped format, we import the gzip library, we specify the paths of the file which now includes the.gz or gz extension. Then we open the file using the gzip library, this looks very similar to opening regular file with a few subtly different options. Just looking at this file, it's a 12 megabyte file when it is compressed, and it's a 39 megabyte file when it's unzipped. So, it's already worthwhile to try and manipulating this dataset in his native gziped format. So, when we open that file using the gzip library we specify the options rt. R is to read, t just specifies that the file is really a text file as opposed to reading gziped file in byte format which would be inconvenient."
   ]
  },
  {
   "cell_type": "markdown",
   "metadata": {},
   "source": [
    "Otherwise, once we've opened the file using the gzip library, we can manipulate it pretty much like we would any other regular file. So, we can now pass the open gziped file to CSV reader, rather than passing an open file to csv.reader. Otherwise, it's going to be exactly the same, we can read the header and all of the following lines exactly as we would for a regular unzipped file. That's all we need to know about the gzip library. It essentially allows us to read zipped files in the.gz format without having to unzip them."
   ]
  },
  {
   "cell_type": "code",
   "execution_count": null,
   "metadata": {},
   "outputs": [],
   "source": []
  },
  {
   "cell_type": "code",
   "execution_count": 1,
   "metadata": {},
   "outputs": [],
   "source": [
    "import gzip"
   ]
  },
  {
   "cell_type": "code",
   "execution_count": 3,
   "metadata": {},
   "outputs": [],
   "source": [
    "path = \"datasets/amazon_reviews_us_Gift_Card_v1_00.tsv.gz\"\n",
    "f = gzip.open(path, 'rt')"
   ]
  },
  {
   "cell_type": "code",
   "execution_count": 4,
   "metadata": {},
   "outputs": [],
   "source": [
    "import csv\n",
    "reader = csv.reader(f, delimiter = '\\t')"
   ]
  },
  {
   "cell_type": "code",
   "execution_count": 5,
   "metadata": {},
   "outputs": [],
   "source": [
    "header = next(reader)"
   ]
  },
  {
   "cell_type": "code",
   "execution_count": 7,
   "metadata": {},
   "outputs": [
    {
     "data": {
      "text/plain": [
       "['marketplace',\n",
       " 'customer_id',\n",
       " 'review_id',\n",
       " 'product_id',\n",
       " 'product_parent',\n",
       " 'product_title',\n",
       " 'product_category',\n",
       " 'star_rating',\n",
       " 'helpful_votes',\n",
       " 'total_votes',\n",
       " 'vine',\n",
       " 'verified_purchase',\n",
       " 'review_headline',\n",
       " 'review_body',\n",
       " 'review_date']"
      ]
     },
     "execution_count": 7,
     "metadata": {},
     "output_type": "execute_result"
    }
   ],
   "source": [
    "header"
   ]
  },
  {
   "cell_type": "markdown",
   "metadata": {},
   "source": [
    "### Reading and filtering files line by line"
   ]
  },
  {
   "cell_type": "markdown",
   "metadata": {},
   "source": [
    "The next concept I'd like to introduce is,how can we read and filter out data sets line by line? So, for manipulating a very large file and we have a gzipped, it's not going to help us if we then try to read the entire file into memory all in one go, because we're just going to run out of memory. So, the next concept we would like to introduce is to say, \"How can we construct a data structure containing some reduced subset of the file that we'd really like to work with?\" So, perhaps, in the case of our Amazon dataset, we'd like to build a subset that ignores the text fields in that dataset, because we'd just like to do some operations on the rating, or the vote, or the user data. That's what we'll do in this example. "
   ]
  },
  {
   "cell_type": "code",
   "execution_count": 9,
   "metadata": {},
   "outputs": [],
   "source": [
    "data = []"
   ]
  },
  {
   "cell_type": "code",
   "execution_count": 10,
   "metadata": {},
   "outputs": [],
   "source": [
    "for line in reader:          #File is read one line at a time\n",
    "    line = line[:3]          #drop the text fields, in this case, the last 3\n",
    "    if line[-1] == 'Y':      #discard unverified reviews\n",
    "        dataset.append(line)"
   ]
  },
  {
   "cell_type": "code",
   "execution_count": 11,
   "metadata": {},
   "outputs": [
    {
     "data": {
      "text/plain": [
       "{'marketplace': 'US',\n",
       " 'customer_id': '24371595',\n",
       " 'review_id': 'R27ZP1F1CD0C3Y',\n",
       " 'product_id': 'B004LLIL5A',\n",
       " 'product_parent': '346014806',\n",
       " 'product_title': 'Amazon eGift Card - Celebrate',\n",
       " 'product_category': 'Gift Card',\n",
       " 'star_rating': 5,\n",
       " 'helpful_votes': 0,\n",
       " 'total_votes': 0,\n",
       " 'vine': False,\n",
       " 'verified_purchase': True,\n",
       " 'review_headline': 'Five Stars',\n",
       " 'review_body': 'Great birthday gift for a young adult.',\n",
       " 'review_date': '2015-08-31'}"
      ]
     },
     "execution_count": 11,
     "metadata": {},
     "output_type": "execute_result"
    }
   ],
   "source": [
    "dataset[0]"
   ]
  },
  {
   "cell_type": "markdown",
   "metadata": {},
   "source": [
    "So, rather than reading the whole file and then trying to remove the text fields, which could cause us to run out of memory, what we'll do instead, is read the file line by line, delete the text fields and store the reduced entries of each line inside our appropriate data structure, which in this case is the list. So, all this happening in this code is the following: we read the file one line at a time just by passing our csv.reader object into a for loop. The second thing we do, is we just drop some entries from that file. In this case, we are dropping the last three entries which correspond to the text portion of the review."
   ]
  },
  {
   "cell_type": "markdown",
   "metadata": {},
   "source": [
    "The next idea is something I personally do and I find very useful. We just to take our CSV structured data and store it in key-value pairs much like we would have four adjacent object. So, rather than trying to manipulate a CSV file by looking for entry number two, which we remember corresponds to the user ID, and entry number 21 which corresponds to the index of the review field, that could be very cumbersome. Rather than doing that, we might actually like to use something like a dictionary data structure, that will store for us key-value pairs indicating which key corresponds to which entry. So, in this case, we might do that as we read the file by using this dictionary constructor. So, this is going to take the header and the line we're currently reading, and convert that to a dictionary which maps each key in the header, to each value in the line. "
   ]
  },
  {
   "cell_type": "markdown",
   "metadata": {},
   "source": [
    "So, it's essentially going to convert that line to a dictionary that we can index by keys from the header. The second thing that might be useful to do, since we're actually reading as file as a string, is to convert some of the numeric fields into Python types, such as integer or boolean types. So, we have fields here like the number of helpful votes or the star rating. As we read the file, they're going to be represented as strings, so it might be more useful to convert them to floats, integers, booleans, whatever type they natively come in. The same thing applies for the verified purchase and viine fields, which in this case are, yes or no, or just the characters Y or N, which we might convert to true or false values, which will make it easier later on to perform logic on those fields. So again, in our other two ideas. First of all, we use the dict operator to make our line into a Python dictionary, which is going to make it much easier for us to index the different fields by keys, rather than by the index of that field. Secondly, we convert strings to numbers and booleans where possible."
   ]
  },
  {
   "cell_type": "markdown",
   "metadata": {},
   "source": [
    "So, that's about it for reading files into Python data structures. We did a few things in this lecture. First of all, we introduce the gzip library, which is going to be very convenient when we want to manipulate large files that maybe we don't want to unzip. We also saw some techniques for pre-processing data sets as we read them. So, now on your own, you should be able to work with some of the larger Amazon datasets or the help review data, and compile some simple statistics for them by reading them in a native gziped format. Also you should be able to experiment with his dict operator which you can use to convert CSV or TSV data into dictionary objects mapping keys from the header into fields from each line."
   ]
  },
  {
   "cell_type": "code",
   "execution_count": 12,
   "metadata": {},
   "outputs": [],
   "source": [
    "dataset = []\n",
    "for line in reader:\n",
    "    d = dict(zip(header, line))\n",
    "    for field in ['helpful_votes', 'star_rating', 'total_votes']:\n",
    "        d[field] = int(d[field])\n",
    "    for field in ['verified_purchase', 'vine']:\n",
    "        if d[field] == \"Y\":\n",
    "            d[field] = True\n",
    "        else:\n",
    "            d[field] = False\n",
    "    dataset.append(d)"
   ]
  },
  {
   "cell_type": "markdown",
   "metadata": {},
   "source": [
    "### Let's calculate some summary statistics"
   ]
  },
  {
   "cell_type": "markdown",
   "metadata": {
    "heading_collapsed": true
   },
   "source": [
    "#### Summary stats"
   ]
  },
  {
   "cell_type": "markdown",
   "metadata": {
    "hidden": true
   },
   "source": [
    "Compute Average Rating, it can be computed with list comprehension"
   ]
  },
  {
   "cell_type": "code",
   "execution_count": 44,
   "metadata": {
    "hidden": true
   },
   "outputs": [],
   "source": [
    "ratings = [d['star_rating'] for d in dataset]"
   ]
  },
  {
   "cell_type": "code",
   "execution_count": 45,
   "metadata": {
    "hidden": true
   },
   "outputs": [
    {
     "data": {
      "text/plain": [
       "4.731333018677096"
      ]
     },
     "execution_count": 45,
     "metadata": {},
     "output_type": "execute_result"
    }
   ],
   "source": [
    "sum(ratings) / len(ratings)"
   ]
  },
  {
   "cell_type": "markdown",
   "metadata": {
    "heading_collapsed": true
   },
   "source": [
    "#### Rating score distribution"
   ]
  },
  {
   "cell_type": "code",
   "execution_count": 46,
   "metadata": {
    "hidden": true
   },
   "outputs": [],
   "source": [
    "ratingCounts = {1: 0, 2: 0, 3: 0, 4: 0, 5: 0}"
   ]
  },
  {
   "cell_type": "code",
   "execution_count": 47,
   "metadata": {
    "hidden": true
   },
   "outputs": [],
   "source": [
    "for d in dataset:\n",
    "    ratingCounts[d['star_rating']] += 1"
   ]
  },
  {
   "cell_type": "code",
   "execution_count": 48,
   "metadata": {
    "hidden": true
   },
   "outputs": [],
   "source": [
    "ratingCounts"
   ]
  },
  {
   "cell_type": "markdown",
   "metadata": {
    "heading_collapsed": true
   },
   "source": [
    "#### Using the default dic function"
   ]
  },
  {
   "cell_type": "code",
   "execution_count": 63,
   "metadata": {
    "hidden": true
   },
   "outputs": [],
   "source": [
    "ratingCounts = {1: 0, 2: 0, 3: 0, 4: 0, 5: 0}"
   ]
  },
  {
   "cell_type": "code",
   "execution_count": 64,
   "metadata": {
    "hidden": true
   },
   "outputs": [],
   "source": [
    "from collections import defaultdict"
   ]
  },
  {
   "cell_type": "code",
   "execution_count": 65,
   "metadata": {
    "hidden": true
   },
   "outputs": [],
   "source": [
    "ratingCounts = defaultdict(int)"
   ]
  },
  {
   "cell_type": "code",
   "execution_count": 66,
   "metadata": {
    "hidden": true
   },
   "outputs": [],
   "source": [
    "for d in dataset:\n",
    "    ratingCounts[d['star_rating']] += 1"
   ]
  },
  {
   "cell_type": "code",
   "execution_count": 67,
   "metadata": {
    "hidden": true
   },
   "outputs": [
    {
     "data": {
      "text/plain": [
       "defaultdict(int, {5: 129029, 1: 4766, 4: 9808, 2: 1560, 3: 3147})"
      ]
     },
     "execution_count": 67,
     "metadata": {},
     "output_type": "execute_result"
    }
   ],
   "source": [
    "ratingCounts"
   ]
  },
  {
   "cell_type": "markdown",
   "metadata": {
    "heading_collapsed": true
   },
   "source": [
    "#### Calculate 'verified purchases'"
   ]
  },
  {
   "cell_type": "code",
   "execution_count": 73,
   "metadata": {
    "hidden": true
   },
   "outputs": [],
   "source": [
    "verifiedCounts = defaultdict(int)"
   ]
  },
  {
   "cell_type": "code",
   "execution_count": 74,
   "metadata": {
    "hidden": true
   },
   "outputs": [],
   "source": [
    "for d in dataset:\n",
    "    verifiedCounts[d['verified_purchase']] += 1"
   ]
  },
  {
   "cell_type": "code",
   "execution_count": 75,
   "metadata": {
    "hidden": true
   },
   "outputs": [
    {
     "data": {
      "text/plain": [
       "defaultdict(int, {True: 135289, False: 13021})"
      ]
     },
     "execution_count": 75,
     "metadata": {},
     "output_type": "execute_result"
    }
   ],
   "source": [
    "verifiedCounts"
   ]
  },
  {
   "cell_type": "markdown",
   "metadata": {
    "heading_collapsed": true,
    "hidden": true
   },
   "source": [
    "##### Most popular products"
   ]
  },
  {
   "cell_type": "code",
   "execution_count": 82,
   "metadata": {
    "hidden": true
   },
   "outputs": [],
   "source": [
    "productCounts = defaultdict(int)"
   ]
  },
  {
   "cell_type": "code",
   "execution_count": 83,
   "metadata": {
    "hidden": true
   },
   "outputs": [],
   "source": [
    "for d in dataset:\n",
    "    productCounts[d['product_id']] += 1"
   ]
  },
  {
   "cell_type": "code",
   "execution_count": 84,
   "metadata": {
    "hidden": true
   },
   "outputs": [],
   "source": [
    "counts = [(productCounts[p], p) for p in productCounts]"
   ]
  },
  {
   "cell_type": "code",
   "execution_count": 85,
   "metadata": {
    "hidden": true
   },
   "outputs": [],
   "source": [
    "counts.sort()"
   ]
  },
  {
   "cell_type": "code",
   "execution_count": 86,
   "metadata": {
    "hidden": true
   },
   "outputs": [
    {
     "data": {
      "text/plain": [
       "[(2038, 'B004KNWWO0'),\n",
       " (2173, 'B0066AZGD4'),\n",
       " (2630, 'BT00DDC7CE'),\n",
       " (2643, 'B004LLIKY2'),\n",
       " (3407, 'BT00DDC7BK'),\n",
       " (3440, 'BT00CTOUNS'),\n",
       " (4283, 'B00IX1I3G6'),\n",
       " (5034, 'BT00DDVMVQ'),\n",
       " (6037, 'B00A48G0D4'),\n",
       " (28705, 'B004LLIKVU')]"
      ]
     },
     "execution_count": 86,
     "metadata": {},
     "output_type": "execute_result"
    }
   ],
   "source": [
    "counts[-10:]"
   ]
  },
  {
   "cell_type": "markdown",
   "metadata": {
    "heading_collapsed": true
   },
   "source": [
    "#### Top rated products"
   ]
  },
  {
   "cell_type": "markdown",
   "metadata": {
    "hidden": true
   },
   "source": [
    "Here we need to compute the average rating for each product, which requires that we first construct the list of ratings for each product. This can be done using the defaultdict, with the 'list' subclass."
   ]
  },
  {
   "cell_type": "code",
   "execution_count": 96,
   "metadata": {
    "hidden": true
   },
   "outputs": [],
   "source": [
    "ratingsPerProduct = defaultdict(list)"
   ]
  },
  {
   "cell_type": "code",
   "execution_count": 97,
   "metadata": {
    "hidden": true
   },
   "outputs": [],
   "source": [
    "for d in dataset:\n",
    "    ratingsPerProduct[d['product_id']].append(d['star_rating'])"
   ]
  },
  {
   "cell_type": "code",
   "execution_count": 98,
   "metadata": {
    "hidden": true
   },
   "outputs": [],
   "source": [
    "averageRatingPerProduct = {}\n",
    "for p in ratingsPerProduct:\n",
    "    averageRatingPerProduct[p] = sum(ratingsPerProduct[p]) / len(ratingsPerProduct[p])"
   ]
  },
  {
   "cell_type": "markdown",
   "metadata": {
    "hidden": true
   },
   "source": [
    "We now have two data structures: one which stores the list of ratings for each product, and one which stores the average rating for each product. "
   ]
  },
  {
   "cell_type": "markdown",
   "metadata": {
    "hidden": true
   },
   "source": [
    "##### Now we can sort by ratings, and also filter to only include reasonably popular products:"
   ]
  },
  {
   "cell_type": "code",
   "execution_count": 101,
   "metadata": {
    "hidden": true
   },
   "outputs": [],
   "source": [
    "topRated = [(averageRatingPerProduct[p], p) for p in averageRatingPerProduct if len(ratingsPerProduct[p]) > 50]"
   ]
  },
  {
   "cell_type": "code",
   "execution_count": null,
   "metadata": {
    "hidden": true
   },
   "outputs": [],
   "source": [
    "topRated.sort()"
   ]
  },
  {
   "cell_type": "code",
   "execution_count": 102,
   "metadata": {
    "hidden": true
   },
   "outputs": [
    {
     "data": {
      "text/plain": [
       "[(4.534246575342466, 'B008BMI0JC'),\n",
       " (4.698347107438017, 'B0062ONF64'),\n",
       " (4.734375, 'B005EISP96'),\n",
       " (4.691056910569106, 'B0062ONETC'),\n",
       " (4.634615384615385, 'B00BWDH1YC'),\n",
       " (4.931034482758621, 'B00CT77E60'),\n",
       " (4.756338028169014, 'B00BWDH77S'),\n",
       " (4.2745098039215685, 'B00BWDHYBM'),\n",
       " (4.67741935483871, 'B009I1ZRN2'),\n",
       " (4.882352941176471, 'B004LLJ6B8')]"
      ]
     },
     "execution_count": 102,
     "metadata": {},
     "output_type": "execute_result"
    }
   ],
   "source": [
    "topRated[-10:]"
   ]
  },
  {
   "cell_type": "code",
   "execution_count": null,
   "metadata": {
    "hidden": true
   },
   "outputs": [],
   "source": []
  },
  {
   "cell_type": "code",
   "execution_count": null,
   "metadata": {
    "hidden": true
   },
   "outputs": [],
   "source": []
  },
  {
   "cell_type": "code",
   "execution_count": null,
   "metadata": {
    "hidden": true
   },
   "outputs": [],
   "source": []
  }
 ],
 "metadata": {
  "kernelspec": {
   "display_name": "Python 3",
   "language": "python",
   "name": "python3"
  },
  "language_info": {
   "codemirror_mode": {
    "name": "ipython",
    "version": 3
   },
   "file_extension": ".py",
   "mimetype": "text/x-python",
   "name": "python",
   "nbconvert_exporter": "python",
   "pygments_lexer": "ipython3",
   "version": "3.7.5"
  },
  "toc": {
   "base_numbering": 1,
   "nav_menu": {},
   "number_sections": false,
   "sideBar": false,
   "skip_h1_title": false,
   "title_cell": "Table of Contents",
   "title_sidebar": "Contents",
   "toc_cell": false,
   "toc_position": {},
   "toc_section_display": false,
   "toc_window_display": false
  }
 },
 "nbformat": 4,
 "nbformat_minor": 4
}
