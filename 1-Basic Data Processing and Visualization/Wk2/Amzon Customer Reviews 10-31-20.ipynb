{
 "cells": [
  {
   "cell_type": "markdown",
   "metadata": {},
   "source": [
    "# Reading CSV and Json Files"
   ]
  },
  {
   "cell_type": "code",
   "execution_count": 100,
   "metadata": {},
   "outputs": [],
   "source": [
    "import csv\n",
    "import json\n",
    "import ast"
   ]
  },
  {
   "cell_type": "code",
   "execution_count": 101,
   "metadata": {},
   "outputs": [],
   "source": [
    "path = \"/home/gary/OneDrive/DataScience/Python-Data-Products-for-Predictive-Analytics-Specialization/Basic Data Processing and Visualization/Week2/datasets/amazon_reviews_us_Gift_Card_v1_00.tsv\""
   ]
  },
  {
   "cell_type": "code",
   "execution_count": 102,
   "metadata": {},
   "outputs": [
    {
     "name": "stdout",
     "output_type": "stream",
     "text": [
      "\u001b[0m\u001b[01;31m2010_SAT.tsv.gz\u001b[0m  amazon_reviews_us_Gift_Card_v1_00.tsv  example.json\r\n"
     ]
    }
   ],
   "source": [
    "ls"
   ]
  },
  {
   "cell_type": "code",
   "execution_count": 103,
   "metadata": {},
   "outputs": [],
   "source": [
    "f = open(path)"
   ]
  },
  {
   "cell_type": "code",
   "execution_count": 104,
   "metadata": {},
   "outputs": [],
   "source": [
    "#specified delimiter to be used, \"\\tab\"\n",
    "reader = csv.reader(f, delimiter = '\\t')"
   ]
  },
  {
   "cell_type": "code",
   "execution_count": 105,
   "metadata": {},
   "outputs": [
    {
     "data": {
      "text/plain": [
       "['marketplace',\n",
       " 'customer_id',\n",
       " 'review_id',\n",
       " 'product_id',\n",
       " 'product_parent',\n",
       " 'product_title',\n",
       " 'product_category',\n",
       " 'star_rating',\n",
       " 'helpful_votes',\n",
       " 'total_votes',\n",
       " 'vine',\n",
       " 'verified_purchase',\n",
       " 'review_headline',\n",
       " 'review_body',\n",
       " 'review_date']"
      ]
     },
     "execution_count": 105,
     "metadata": {},
     "output_type": "execute_result"
    }
   ],
   "source": [
    "#first line is the header/column names of the file\n",
    "next(reader)"
   ]
  },
  {
   "cell_type": "code",
   "execution_count": 106,
   "metadata": {},
   "outputs": [
    {
     "data": {
      "text/plain": [
       "['US',\n",
       " '24371595',\n",
       " 'R27ZP1F1CD0C3Y',\n",
       " 'B004LLIL5A',\n",
       " '346014806',\n",
       " 'Amazon eGift Card – Celebrate',\n",
       " 'Gift Card',\n",
       " '5',\n",
       " '0',\n",
       " '0',\n",
       " 'N',\n",
       " 'Y',\n",
       " 'Five Stars',\n",
       " 'Great birthday gift for a young adult.',\n",
       " '2015-08-31']"
      ]
     },
     "execution_count": 106,
     "metadata": {},
     "output_type": "execute_result"
    }
   ],
   "source": [
    "next(reader)"
   ]
  },
  {
   "cell_type": "markdown",
   "metadata": {},
   "source": [
    "## Reading CSV & Json Files"
   ]
  },
  {
   "cell_type": "code",
   "execution_count": 107,
   "metadata": {},
   "outputs": [],
   "source": [
    "path = \"/home/gary/OneDrive/DataScience/Python-Data-Products-for-Predictive-Analytics-Specialization/Basic Data Processing and Visualization/Week2/datasets/example.json\""
   ]
  },
  {
   "cell_type": "code",
   "execution_count": 108,
   "metadata": {},
   "outputs": [],
   "source": [
    "f = open(path)"
   ]
  },
  {
   "cell_type": "code",
   "execution_count": 109,
   "metadata": {},
   "outputs": [],
   "source": [
    "line = f.readline()"
   ]
  },
  {
   "cell_type": "code",
   "execution_count": 110,
   "metadata": {},
   "outputs": [
    {
     "data": {
      "text/plain": [
       "'{\"_id\":\"5c1a010ae61b49b43c4b4864\",\"index\":0,\"age\":35,\"eyeColor\":\"green\",\"name\":\"Wiggins Holman\",\"address\":\"247 Thatford Avenue, Oneida,Puerto Rico, 7233\",\"friends\":[{\"id\":0,\"name\":\"Carmela Hampton\"},{\"id\":1,\"name\":\"Lynda Pittman\"},{\"id\":2,\"name\":\"Cleveland Noble\"}]}\\n'"
      ]
     },
     "execution_count": 110,
     "metadata": {},
     "output_type": "execute_result"
    }
   ],
   "source": [
    "line"
   ]
  },
  {
   "cell_type": "code",
   "execution_count": 111,
   "metadata": {},
   "outputs": [],
   "source": [
    "# while this works, it is not the safest way to run code, since it's easy to run malicious code with eval.\n",
    "d = eval(line)"
   ]
  },
  {
   "cell_type": "code",
   "execution_count": 112,
   "metadata": {},
   "outputs": [
    {
     "data": {
      "text/plain": [
       "{'_id': '5c1a010ae61b49b43c4b4864',\n",
       " 'index': 0,\n",
       " 'age': 35,\n",
       " 'eyeColor': 'green',\n",
       " 'name': 'Wiggins Holman',\n",
       " 'address': '247 Thatford Avenue, Oneida,Puerto Rico, 7233',\n",
       " 'friends': [{'id': 0, 'name': 'Carmela Hampton'},\n",
       "  {'id': 1, 'name': 'Lynda Pittman'},\n",
       "  {'id': 2, 'name': 'Cleveland Noble'}]}"
      ]
     },
     "execution_count": 112,
     "metadata": {},
     "output_type": "execute_result"
    }
   ],
   "source": [
    "d"
   ]
  },
  {
   "cell_type": "code",
   "execution_count": 113,
   "metadata": {},
   "outputs": [
    {
     "data": {
      "text/plain": [
       "'5c1a010ae61b49b43c4b4864'"
      ]
     },
     "execution_count": 113,
     "metadata": {},
     "output_type": "execute_result"
    }
   ],
   "source": [
    "d['_id']"
   ]
  },
  {
   "cell_type": "markdown",
   "metadata": {},
   "source": [
    "# AST library\n",
    "An Abstract Syntax Tree is a simplified syntactic tree representation of a programming language’s source code. Each node of the tree stands for an statement occurring in the code. This trees don’t show the entire syntactic clutter, just the important information for analyzing the code. \n",
    "\n",
    "If it showed the entire structure it would be a Concrete Syntax Tree, but it’s usually better to simplify it because the information we use when building compilers can be found on an abstract syntax tree.\n",
    "\n",
    "Python comes with a library built-in that makes it easier to work with Abstract Syntax Trees. The ast library helps processing Python abstract syntactic trees. The main purpose of the module is helping showing how the current grammar looks like.\n",
    "\n",
    "source:more info @ https://medium.com/@SergioPaniego/abstract-syntax-trees-in-python-ast-library-9bfd705ef9f1"
   ]
  },
  {
   "cell_type": "code",
   "execution_count": 114,
   "metadata": {},
   "outputs": [
    {
     "data": {
      "text/plain": [
       "{'_id': '5c1a010ae61b49b43c4b4864',\n",
       " 'index': 0,\n",
       " 'age': 35,\n",
       " 'eyeColor': 'green',\n",
       " 'name': 'Wiggins Holman',\n",
       " 'address': '247 Thatford Avenue, Oneida,Puerto Rico, 7233',\n",
       " 'friends': [{'id': 0, 'name': 'Carmela Hampton'},\n",
       "  {'id': 1, 'name': 'Lynda Pittman'},\n",
       "  {'id': 2, 'name': 'Cleveland Noble'}]}"
      ]
     },
     "execution_count": 114,
     "metadata": {},
     "output_type": "execute_result"
    }
   ],
   "source": [
    "#ast, abstract syntax tree library prevent execution of code with unintended output\n",
    "#ast validates we are reading only dictionary objects.\n",
    "ast.literal_eval(line)"
   ]
  },
  {
   "cell_type": "code",
   "execution_count": 115,
   "metadata": {},
   "outputs": [],
   "source": [
    "#similarly, the json object is another safer option\n",
    "import json"
   ]
  },
  {
   "cell_type": "code",
   "execution_count": 116,
   "metadata": {},
   "outputs": [
    {
     "data": {
      "text/plain": [
       "{'_id': '5c1a010ae61b49b43c4b4864',\n",
       " 'index': 0,\n",
       " 'age': 35,\n",
       " 'eyeColor': 'green',\n",
       " 'name': 'Wiggins Holman',\n",
       " 'address': '247 Thatford Avenue, Oneida,Puerto Rico, 7233',\n",
       " 'friends': [{'id': 0, 'name': 'Carmela Hampton'},\n",
       "  {'id': 1, 'name': 'Lynda Pittman'},\n",
       "  {'id': 2, 'name': 'Cleveland Noble'}]}"
      ]
     },
     "execution_count": 116,
     "metadata": {},
     "output_type": "execute_result"
    }
   ],
   "source": [
    "json.loads(line)"
   ]
  },
  {
   "cell_type": "markdown",
   "metadata": {},
   "source": [
    "# Processing Structured Data in Python"
   ]
  },
  {
   "cell_type": "code",
   "execution_count": 122,
   "metadata": {},
   "outputs": [
    {
     "data": {
      "text/plain": [
       "'/home/gary/OneDrive/DataScience/Python-Data-Products-for-Predictive-Analytics-Specialization/Basic Data Processing and Visualization/Week2/datasets'"
      ]
     },
     "execution_count": 122,
     "metadata": {},
     "output_type": "execute_result"
    }
   ],
   "source": [
    "pwd"
   ]
  },
  {
   "cell_type": "code",
   "execution_count": 124,
   "metadata": {},
   "outputs": [
    {
     "name": "stdout",
     "output_type": "stream",
     "text": [
      "\u001b[0m\u001b[01;31m2010_SAT.tsv.gz\u001b[0m                        \u001b[01;31mamazon_reviews_us_Gift_Card_v1_00.tsv.gz\u001b[0m\r\n",
      "amazon_reviews_us_Gift_Card_v1_00.tsv  example.json\r\n"
     ]
    }
   ],
   "source": [
    "ls"
   ]
  },
  {
   "cell_type": "code",
   "execution_count": 126,
   "metadata": {},
   "outputs": [],
   "source": [
    "import gzip\n",
    "path = \"/home/gary/OneDrive/DataScience/Python-Data-Products-for-Predictive-Analytics-Specialization/Basic Data Processing and Visualization/Week2/datasets/amazon_reviews_us_Gift_Card_v1_00.tsv.gz\"\n",
    "\n",
    "# zipped file is 12mb, unzipped 39mb.\n",
    "f = gzip.open(path, 'rt')"
   ]
  },
  {
   "cell_type": "code",
   "execution_count": 127,
   "metadata": {},
   "outputs": [],
   "source": [
    "import csv\n",
    "reader = csv.reader(f, delimiter = '\\t')"
   ]
  },
  {
   "cell_type": "code",
   "execution_count": 128,
   "metadata": {},
   "outputs": [],
   "source": [
    "header = next(reader)"
   ]
  },
  {
   "cell_type": "code",
   "execution_count": 129,
   "metadata": {},
   "outputs": [
    {
     "data": {
      "text/plain": [
       "['marketplace',\n",
       " 'customer_id',\n",
       " 'review_id',\n",
       " 'product_id',\n",
       " 'product_parent',\n",
       " 'product_title',\n",
       " 'product_category',\n",
       " 'star_rating',\n",
       " 'helpful_votes',\n",
       " 'total_votes',\n",
       " 'vine',\n",
       " 'verified_purchase',\n",
       " 'review_headline',\n",
       " 'review_body',\n",
       " 'review_date']"
      ]
     },
     "execution_count": 129,
     "metadata": {},
     "output_type": "execute_result"
    }
   ],
   "source": [
    "header"
   ]
  },
  {
   "cell_type": "code",
   "execution_count": 131,
   "metadata": {},
   "outputs": [],
   "source": [
    "dataset = []"
   ]
  },
  {
   "cell_type": "code",
   "execution_count": 132,
   "metadata": {},
   "outputs": [],
   "source": [
    "for line in reader:              #file is read one line at a time\n",
    "    line = line[:-3]              # drop the text fields\n",
    "    if line[-1] == 'Y':           #dicard unverified reviews \n",
    "        dataset.append(line)"
   ]
  },
  {
   "cell_type": "code",
   "execution_count": 133,
   "metadata": {},
   "outputs": [
    {
     "data": {
      "text/plain": [
       "['US',\n",
       " '24371595',\n",
       " 'R27ZP1F1CD0C3Y',\n",
       " 'B004LLIL5A',\n",
       " '346014806',\n",
       " 'Amazon eGift Card - Celebrate',\n",
       " 'Gift Card',\n",
       " '5',\n",
       " '0',\n",
       " '0',\n",
       " 'N',\n",
       " 'Y']"
      ]
     },
     "execution_count": 133,
     "metadata": {},
     "output_type": "execute_result"
    }
   ],
   "source": [
    "dataset[0]"
   ]
  },
  {
   "cell_type": "markdown",
   "metadata": {},
   "source": [
    "### The above method works, but an even more robust and effecient way to do this is with the dict module"
   ]
  },
  {
   "cell_type": "code",
   "execution_count": 135,
   "metadata": {},
   "outputs": [],
   "source": [
    "for line in reader:\n",
    "    d = dict(zip(header, line))\n",
    "    for field in ['helpful_votes', 'star_rating', 'total_votes']:\n",
    "        d[field] = int(d[field])\n",
    "    for field in ['verified_purchase', 'vine']:\n",
    "        if d[field] == 'Y':\n",
    "            d[field] = True\n",
    "        else:\n",
    "            d[field] = False\n",
    "    dataset.append(d)"
   ]
  },
  {
   "cell_type": "code",
   "execution_count": 136,
   "metadata": {},
   "outputs": [
    {
     "data": {
      "text/plain": [
       "['US',\n",
       " '24371595',\n",
       " 'R27ZP1F1CD0C3Y',\n",
       " 'B004LLIL5A',\n",
       " '346014806',\n",
       " 'Amazon eGift Card - Celebrate',\n",
       " 'Gift Card',\n",
       " '5',\n",
       " '0',\n",
       " '0',\n",
       " 'N',\n",
       " 'Y']"
      ]
     },
     "execution_count": 136,
     "metadata": {},
     "output_type": "execute_result"
    }
   ],
   "source": [
    "dataset[0]"
   ]
  },
  {
   "cell_type": "code",
   "execution_count": 139,
   "metadata": {},
   "outputs": [
    {
     "name": "stdout",
     "output_type": "stream",
     "text": [
      "\u001b[0m\u001b[01;31m2010_SAT.tsv.gz\u001b[0m                           example.json\r\n",
      "amazon_reviews_us_Gift_Card_v1_00.tsv     yelp_academic_dataset_business.json\r\n",
      "\u001b[01;31mamazon_reviews_us_Gift_Card_v1_00.tsv.gz\u001b[0m\r\n"
     ]
    }
   ],
   "source": [
    "ls"
   ]
  },
  {
   "cell_type": "code",
   "execution_count": 140,
   "metadata": {},
   "outputs": [
    {
     "data": {
      "text/plain": [
       "'/home/gary/OneDrive/DataScience/Python-Data-Products-for-Predictive-Analytics-Specialization/Basic Data Processing and Visualization/Week2/datasets'"
      ]
     },
     "execution_count": 140,
     "metadata": {},
     "output_type": "execute_result"
    }
   ],
   "source": [
    "pwd"
   ]
  },
  {
   "cell_type": "code",
   "execution_count": 143,
   "metadata": {},
   "outputs": [],
   "source": [
    "path = '/home/gary/OneDrive/DataScience/Python-Data-Products-for-Predictive-Analytics-Specialization/Basic Data Processing and Visualization/Week2/datasets/yelp_academic_dataset_business.json'"
   ]
  },
  {
   "cell_type": "code",
   "execution_count": 144,
   "metadata": {},
   "outputs": [],
   "source": [
    "f = open(path, 'r')"
   ]
  },
  {
   "cell_type": "code",
   "execution_count": 146,
   "metadata": {},
   "outputs": [],
   "source": [
    "lines = []\n",
    "for i in range(50000):\n",
    "    lines.append(f.readline())"
   ]
  },
  {
   "cell_type": "code",
   "execution_count": 147,
   "metadata": {},
   "outputs": [
    {
     "data": {
      "text/plain": [
       "'{\"business_id\":\"f9NumwFMBDn751xgFiRbNA\",\"name\":\"The Range At Lake Norman\",\"address\":\"10913 Bailey Rd\",\"city\":\"Cornelius\",\"state\":\"NC\",\"postal_code\":\"28031\",\"latitude\":35.4627242,\"longitude\":-80.8526119,\"stars\":3.5,\"review_count\":36,\"is_open\":1,\"attributes\":{\"BusinessAcceptsCreditCards\":\"True\",\"BikeParking\":\"True\",\"GoodForKids\":\"False\",\"BusinessParking\":\"{\\'garage\\': False, \\'street\\': False, \\'validated\\': False, \\'lot\\': True, \\'valet\\': False}\",\"ByAppointmentOnly\":\"False\",\"RestaurantsPriceRange2\":\"3\"},\"categories\":\"Active Life, Gun\\\\/Rifle Ranges, Guns & Ammo, Shopping\",\"hours\":{\"Monday\":\"10:0-18:0\",\"Tuesday\":\"11:0-20:0\",\"Wednesday\":\"10:0-18:0\",\"Thursday\":\"11:0-20:0\",\"Friday\":\"11:0-20:0\",\"Saturday\":\"11:0-20:0\",\"Sunday\":\"13:0-18:0\"}}\\n'"
      ]
     },
     "execution_count": 147,
     "metadata": {},
     "output_type": "execute_result"
    }
   ],
   "source": [
    "lines[0]"
   ]
  },
  {
   "cell_type": "code",
   "execution_count": 148,
   "metadata": {},
   "outputs": [],
   "source": [
    "d = eval(lines[0])"
   ]
  },
  {
   "cell_type": "code",
   "execution_count": 149,
   "metadata": {},
   "outputs": [
    {
     "data": {
      "text/plain": [
       "{'business_id': 'f9NumwFMBDn751xgFiRbNA',\n",
       " 'name': 'The Range At Lake Norman',\n",
       " 'address': '10913 Bailey Rd',\n",
       " 'city': 'Cornelius',\n",
       " 'state': 'NC',\n",
       " 'postal_code': '28031',\n",
       " 'latitude': 35.4627242,\n",
       " 'longitude': -80.8526119,\n",
       " 'stars': 3.5,\n",
       " 'review_count': 36,\n",
       " 'is_open': 1,\n",
       " 'attributes': {'BusinessAcceptsCreditCards': 'True',\n",
       "  'BikeParking': 'True',\n",
       "  'GoodForKids': 'False',\n",
       "  'BusinessParking': \"{'garage': False, 'street': False, 'validated': False, 'lot': True, 'valet': False}\",\n",
       "  'ByAppointmentOnly': 'False',\n",
       "  'RestaurantsPriceRange2': '3'},\n",
       " 'categories': 'Active Life, Gun\\\\/Rifle Ranges, Guns & Ammo, Shopping',\n",
       " 'hours': {'Monday': '10:0-18:0',\n",
       "  'Tuesday': '11:0-20:0',\n",
       "  'Wednesday': '10:0-18:0',\n",
       "  'Thursday': '11:0-20:0',\n",
       "  'Friday': '11:0-20:0',\n",
       "  'Saturday': '11:0-20:0',\n",
       "  'Sunday': '13:0-18:0'}}"
      ]
     },
     "execution_count": 149,
     "metadata": {},
     "output_type": "execute_result"
    }
   ],
   "source": [
    "d"
   ]
  },
  {
   "cell_type": "code",
   "execution_count": 150,
   "metadata": {},
   "outputs": [
    {
     "data": {
      "text/plain": [
       "'f9NumwFMBDn751xgFiRbNA'"
      ]
     },
     "execution_count": 150,
     "metadata": {},
     "output_type": "execute_result"
    }
   ],
   "source": [
    "d['business_id']"
   ]
  },
  {
   "cell_type": "code",
   "execution_count": 151,
   "metadata": {},
   "outputs": [
    {
     "data": {
      "text/plain": [
       "3.5"
      ]
     },
     "execution_count": 151,
     "metadata": {},
     "output_type": "execute_result"
    }
   ],
   "source": [
    "d['stars']"
   ]
  },
  {
   "cell_type": "code",
   "execution_count": 152,
   "metadata": {},
   "outputs": [],
   "source": [
    "import json"
   ]
  },
  {
   "cell_type": "code",
   "execution_count": 153,
   "metadata": {},
   "outputs": [],
   "source": [
    "d = json.loads(lines[0])"
   ]
  },
  {
   "cell_type": "code",
   "execution_count": 154,
   "metadata": {},
   "outputs": [
    {
     "data": {
      "text/plain": [
       "{'business_id': 'f9NumwFMBDn751xgFiRbNA',\n",
       " 'name': 'The Range At Lake Norman',\n",
       " 'address': '10913 Bailey Rd',\n",
       " 'city': 'Cornelius',\n",
       " 'state': 'NC',\n",
       " 'postal_code': '28031',\n",
       " 'latitude': 35.4627242,\n",
       " 'longitude': -80.8526119,\n",
       " 'stars': 3.5,\n",
       " 'review_count': 36,\n",
       " 'is_open': 1,\n",
       " 'attributes': {'BusinessAcceptsCreditCards': 'True',\n",
       "  'BikeParking': 'True',\n",
       "  'GoodForKids': 'False',\n",
       "  'BusinessParking': \"{'garage': False, 'street': False, 'validated': False, 'lot': True, 'valet': False}\",\n",
       "  'ByAppointmentOnly': 'False',\n",
       "  'RestaurantsPriceRange2': '3'},\n",
       " 'categories': 'Active Life, Gun/Rifle Ranges, Guns & Ammo, Shopping',\n",
       " 'hours': {'Monday': '10:0-18:0',\n",
       "  'Tuesday': '11:0-20:0',\n",
       "  'Wednesday': '10:0-18:0',\n",
       "  'Thursday': '11:0-20:0',\n",
       "  'Friday': '11:0-20:0',\n",
       "  'Saturday': '11:0-20:0',\n",
       "  'Sunday': '13:0-18:0'}}"
      ]
     },
     "execution_count": 154,
     "metadata": {},
     "output_type": "execute_result"
    }
   ],
   "source": [
    "d"
   ]
  },
  {
   "cell_type": "code",
   "execution_count": 156,
   "metadata": {},
   "outputs": [
    {
     "data": {
      "text/plain": [
       "'f9NumwFMBDn751xgFiRbNA'"
      ]
     },
     "execution_count": 156,
     "metadata": {},
     "output_type": "execute_result"
    }
   ],
   "source": [
    "d['business_id']"
   ]
  },
  {
   "cell_type": "markdown",
   "metadata": {},
   "source": [
    "### Reading Json Files in Python using json library objects"
   ]
  },
  {
   "cell_type": "code",
   "execution_count": 157,
   "metadata": {},
   "outputs": [],
   "source": [
    "path = '/home/gary/OneDrive/DataScience/Python-Data-Products-for-Predictive-Analytics-Specialization/Basic Data Processing and Visualization/Week2/datasets/yelp_academic_dataset_business.json'"
   ]
  },
  {
   "cell_type": "code",
   "execution_count": 159,
   "metadata": {},
   "outputs": [],
   "source": [
    "f = open(path, 'r', encoding = 'utf8')"
   ]
  },
  {
   "cell_type": "code",
   "execution_count": 162,
   "metadata": {},
   "outputs": [],
   "source": [
    "dataset = []\n",
    "for i in range(50000):\n",
    "    dataset.append(json.loads(f.readline()))"
   ]
  },
  {
   "cell_type": "code",
   "execution_count": 163,
   "metadata": {},
   "outputs": [
    {
     "data": {
      "text/plain": [
       "{'business_id': 'f9NumwFMBDn751xgFiRbNA',\n",
       " 'name': 'The Range At Lake Norman',\n",
       " 'address': '10913 Bailey Rd',\n",
       " 'city': 'Cornelius',\n",
       " 'state': 'NC',\n",
       " 'postal_code': '28031',\n",
       " 'latitude': 35.4627242,\n",
       " 'longitude': -80.8526119,\n",
       " 'stars': 3.5,\n",
       " 'review_count': 36,\n",
       " 'is_open': 1,\n",
       " 'attributes': {'BusinessAcceptsCreditCards': 'True',\n",
       "  'BikeParking': 'True',\n",
       "  'GoodForKids': 'False',\n",
       "  'BusinessParking': \"{'garage': False, 'street': False, 'validated': False, 'lot': True, 'valet': False}\",\n",
       "  'ByAppointmentOnly': 'False',\n",
       "  'RestaurantsPriceRange2': '3'},\n",
       " 'categories': 'Active Life, Gun/Rifle Ranges, Guns & Ammo, Shopping',\n",
       " 'hours': {'Monday': '10:0-18:0',\n",
       "  'Tuesday': '11:0-20:0',\n",
       "  'Wednesday': '10:0-18:0',\n",
       "  'Thursday': '11:0-20:0',\n",
       "  'Friday': '11:0-20:0',\n",
       "  'Saturday': '11:0-20:0',\n",
       "  'Sunday': '13:0-18:0'}}"
      ]
     },
     "execution_count": 163,
     "metadata": {},
     "output_type": "execute_result"
    }
   ],
   "source": [
    "dataset[0]"
   ]
  },
  {
   "cell_type": "code",
   "execution_count": 166,
   "metadata": {},
   "outputs": [
    {
     "data": {
      "text/plain": [
       "{'Monday': '10:0-18:0',\n",
       " 'Tuesday': '11:0-20:0',\n",
       " 'Wednesday': '10:0-18:0',\n",
       " 'Thursday': '11:0-20:0',\n",
       " 'Friday': '11:0-20:0',\n",
       " 'Saturday': '11:0-20:0',\n",
       " 'Sunday': '13:0-18:0'}"
      ]
     },
     "execution_count": 166,
     "metadata": {},
     "output_type": "execute_result"
    }
   ],
   "source": [
    "dataset[0]['hours']"
   ]
  },
  {
   "cell_type": "code",
   "execution_count": null,
   "metadata": {},
   "outputs": [],
   "source": []
  },
  {
   "cell_type": "code",
   "execution_count": null,
   "metadata": {},
   "outputs": [],
   "source": []
  },
  {
   "cell_type": "code",
   "execution_count": null,
   "metadata": {},
   "outputs": [],
   "source": []
  }
 ],
 "metadata": {
  "kernelspec": {
   "display_name": "Python 3",
   "language": "python",
   "name": "python3"
  },
  "language_info": {
   "codemirror_mode": {
    "name": "ipython",
    "version": 3
   },
   "file_extension": ".py",
   "mimetype": "text/x-python",
   "name": "python",
   "nbconvert_exporter": "python",
   "pygments_lexer": "ipython3",
   "version": "3.8.5"
  }
 },
 "nbformat": 4,
 "nbformat_minor": 4
}
