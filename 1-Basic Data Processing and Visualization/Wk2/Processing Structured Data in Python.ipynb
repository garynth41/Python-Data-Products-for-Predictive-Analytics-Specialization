{
 "cells": [
  {
   "cell_type": "markdown",
   "metadata": {},
   "source": [
    "# Basic Data Processing and Visualization \n",
    "## Week 2\n",
    "### *Processing Structured Data in Python*"
   ]
  },
  {
   "cell_type": "code",
   "execution_count": 1,
   "metadata": {},
   "outputs": [],
   "source": [
    "import csv"
   ]
  },
  {
   "cell_type": "code",
   "execution_count": 2,
   "metadata": {},
   "outputs": [],
   "source": [
    "path = \"datasets/amazon_reviews_us_Gift_Card_v1_00.tsv\""
   ]
  },
  {
   "cell_type": "code",
   "execution_count": 3,
   "metadata": {},
   "outputs": [],
   "source": [
    "f = open(path)"
   ]
  },
  {
   "cell_type": "code",
   "execution_count": 4,
   "metadata": {},
   "outputs": [],
   "source": [
    "reader = csv.reader(f, delimiter = '\\t')"
   ]
  },
  {
   "cell_type": "code",
   "execution_count": 7,
   "metadata": {},
   "outputs": [
    {
     "data": {
      "text/plain": [
       "['marketplace',\n",
       " 'customer_id',\n",
       " 'review_id',\n",
       " 'product_id',\n",
       " 'product_parent',\n",
       " 'product_title',\n",
       " 'product_category',\n",
       " 'star_rating',\n",
       " 'helpful_votes',\n",
       " 'total_votes',\n",
       " 'vine',\n",
       " 'verified_purchase',\n",
       " 'review_headline',\n",
       " 'review_body',\n",
       " 'review_date']"
      ]
     },
     "execution_count": 7,
     "metadata": {},
     "output_type": "execute_result"
    }
   ],
   "source": [
    "next(reader)"
   ]
  },
  {
   "cell_type": "markdown",
   "metadata": {},
   "source": [
    "So, in this lecture, we're going to see how we can actually read JSON and CSV files into Python objects. Well, so far, we've seen how we can actually open those files using the csv.reader function or the JSON library. What do we actually do once we've opened the files? We'll also introduce some new libraries, in particular the gzip library, which is going to allow us to manipulate gzip files on the flier. So previously, we covered the basics of reading CSV and JSON files using a few different libraries. "
   ]
  },
  {
   "cell_type": "markdown",
   "metadata": {},
   "source": [
    "So, the question is what comes next? How do we actually go from just opening those files into reading them into appropriate data structures? So, the first thing we're going to want to do, is just to read one of the files we've have been working with. In this case we'll look again at the Amazon Gift Card data, which is a TSV file. So far, we've been able to read it by doing something like, this importing the CSV library, specifying the path to the file, opening the file, providing that open file to the csv.reader library along with a delimited option. Then we can read the header and all of the lines in that file.\n"
   ]
  },
  {
   "cell_type": "markdown",
   "metadata": {},
   "source": [
    "Play video starting at :1:16 and follow transcript1:16\n",
    "So, the questions we'd like to answer to extend that, are first, how are we going to be able to handle sort of large CSV or JSON files without having to unzip them? So far, we just operated on raw, CSV, TSV or JSON files, but many of the datasets we'll actually look at, would come zipped, can we exploit that to our advantage? Secondly, how do we actually extract relevant parts of the data for performing analysis? Often, we'll be looking at very large datasets, and not all parts of those datasets are relevant. So, how do we filter them or build a relevant subset of the data to work with? Third, what are some convenient data structures that we'll make accessing these types of data more convenient."
   ]
  },
  {
   "cell_type": "code",
   "execution_count": null,
   "metadata": {},
   "outputs": [],
   "source": []
  }
 ],
 "metadata": {
  "kernelspec": {
   "display_name": "Python 3",
   "language": "python",
   "name": "python3"
  },
  "language_info": {
   "codemirror_mode": {
    "name": "ipython",
    "version": 3
   },
   "file_extension": ".py",
   "mimetype": "text/x-python",
   "name": "python",
   "nbconvert_exporter": "python",
   "pygments_lexer": "ipython3",
   "version": "3.7.5"
  },
  "toc": {
   "base_numbering": 1,
   "nav_menu": {},
   "number_sections": false,
   "sideBar": false,
   "skip_h1_title": false,
   "title_cell": "Table of Contents",
   "title_sidebar": "Contents",
   "toc_cell": false,
   "toc_position": {},
   "toc_section_display": false,
   "toc_window_display": false
  }
 },
 "nbformat": 4,
 "nbformat_minor": 4
}
