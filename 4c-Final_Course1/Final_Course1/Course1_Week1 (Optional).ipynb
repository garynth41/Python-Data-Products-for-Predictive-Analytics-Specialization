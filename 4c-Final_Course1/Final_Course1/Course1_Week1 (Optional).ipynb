{
 "cells": [
  {
   "cell_type": "markdown",
   "metadata": {},
   "source": [
    "# Week 1\n",
    "\n",
    "This week we reviewed the basics of Python. This notebook will cover basic Python operations, so if you are comfortable with Python already, feel free to skip this notebook."
   ]
  },
  {
   "cell_type": "markdown",
   "metadata": {},
   "source": [
    "### Part 1: Variables and Objects\n",
    "\n",
    "Note that in Python, variables do not have explicitly defined types. Python dynamically typecasts your variables for you. Some common types:\n",
    "\n",
    "- **Numeric:** integers, float, complex\n",
    "- **Sequence:** list, tuple, range\n",
    "- **Binary:** byte, bytearray\n",
    "- **True/False:** bool\n",
    "- **Text:** string (immutable)\n",
    "\n",
    "Also remember that everything in Python is an object. What happens when we run the code below?"
   ]
  },
  {
   "cell_type": "code",
   "execution_count": null,
   "metadata": {},
   "outputs": [],
   "source": [
    "x = \"Hello World\"\n",
    "y = x\n",
    "x = x.lower()\n",
    "print(x, \", \", y)"
   ]
  },
  {
   "cell_type": "markdown",
   "metadata": {},
   "source": [
    "`y` still keeps the original value of `x`! This is because `x.lower()` returns a new string object for `x` to reference, while `y` references the original string object of `Hello World`."
   ]
  },
  {
   "cell_type": "markdown",
   "metadata": {},
   "source": [
    "### Part 2: Loops and Conditionals\n",
    "\n",
    "Loops are essential in nearly every programming language. Note that indenting in Python is treated the same as putting brackets around a block of code in other languages like Java or C++. Try out the code below and see what you get! The syntax for `range()` is `range(start, stop, [, step])`."
   ]
  },
  {
   "cell_type": "code",
   "execution_count": null,
   "metadata": {},
   "outputs": [],
   "source": [
    "for i in range(0, 10):\n",
    "    print(i)"
   ]
  },
  {
   "cell_type": "code",
   "execution_count": null,
   "metadata": {},
   "outputs": [],
   "source": [
    "# Skip every other number with a step size of 2\n",
    "for i in range(0, 10, 2):\n",
    "    print(i)"
   ]
  },
  {
   "cell_type": "code",
   "execution_count": null,
   "metadata": {},
   "outputs": [],
   "source": [
    "# You can also loop through an array!\n",
    "data = [1,2,3,4,5]\n",
    "for i in data:\n",
    "    print(i)"
   ]
  },
  {
   "cell_type": "code",
   "execution_count": null,
   "metadata": {},
   "outputs": [],
   "source": [
    "# Let's try out a while loop and if-statement.\n",
    "i = 2\n",
    "while i < 10:\n",
    "    if i % 3 == 0: # If i is divisible by 3, print i\n",
    "        print(i)\n",
    "    i += 2"
   ]
  },
  {
   "cell_type": "markdown",
   "metadata": {},
   "source": [
    "### Part 3: Functions\n",
    "\n",
    "Functions in Python, like other languages, allow us to abstract away details from subtext into separate code sections. We use the keyword `def` to say we are defining a function, then provide the name and any parameters of the function. Note that we do not provide the return type or parameter type. In Python, function parameters copy the reference.\n",
    "\n",
    "`def name(param0, param1,...)`\n",
    "\n",
    "Let's try out a few simple functions."
   ]
  },
  {
   "cell_type": "code",
   "execution_count": null,
   "metadata": {},
   "outputs": [],
   "source": [
    "# Absolute value function\n",
    "def abs_value_print(val):\n",
    "    if val < 0:\n",
    "        print(0 - val)\n",
    "    else: \n",
    "        print(val)\n",
    "        \n",
    "def abs_value_return(val):\n",
    "    if val < 0:\n",
    "        val = 0 - val\n",
    "    return val\n",
    "        \n",
    "# Experiment with inputs\n",
    "x = -4\n",
    "x = abs_value_print(x)\n",
    "print(\"Using a No return type function, x is: \", x)\n",
    "\n",
    "x = -10\n",
    "x = abs_value_return(x)\n",
    "print(\"Using a return type function, x is: \", x)"
   ]
  },
  {
   "cell_type": "code",
   "execution_count": null,
   "metadata": {},
   "outputs": [],
   "source": [
    "# Increment value function\n",
    "def inc_value(val):\n",
    "    val += 1\n",
    "    \n",
    "# Experiment with inputs - val and x are not the same variable!\n",
    "x = 0\n",
    "inc_value(x)\n",
    "print(\"x is: \", x)"
   ]
  },
  {
   "cell_type": "code",
   "execution_count": null,
   "metadata": {},
   "outputs": [],
   "source": [
    "# Remember that function parameters copy the reference.\n",
    "def swap(val1, val2):\n",
    "    tmp = val1\n",
    "    val1 = val2\n",
    "    val2 = tmp\n",
    "\n",
    "x = 6\n",
    "y = 3\n",
    "swap(x, y)\n",
    "print(x,\", \",y)"
   ]
  },
  {
   "cell_type": "markdown",
   "metadata": {},
   "source": [
    "### Part 4: String Functions\n",
    "\n",
    "Documentation: https://docs.python.org/3.5/library/string.html\n",
    "\n",
    "Remember that Strings are immutable in Python. However, there are still lots of handy-dandy methods you can use to play with Strings in Python. Here are a few common ones that may be useful.\n",
    "\n",
    "- `string.lower()`: returns string converted to lowercase\n",
    "- `string.upper()`: returns string converted to uppercase\n",
    "- `string.strip()`: returns string stripped of whitespaces and newlines or user-defined characters\n",
    "- `string.split()`: returns a list of the words in the string\n",
    "- `string[start:end]`: returns a defined subset of the string\n",
    "- `string.find(PATTERN)`: returns the lowest index of the pattern in the given string\n",
    "- `PATTERN in string`: returns true or false depending on whether the pattern is in the given string\n",
    "- `int(string)` or `float(string)`: converts string to a number\n",
    "- `string {} {}` or `string {0} {1}` and `string.format(str0, str1)`: places inputs into placeholder brackets\n",
    "- `string0` + `string1` = `string0string1`\n",
    "- `string` * 3 = `stringstringstring`"
   ]
  },
  {
   "cell_type": "code",
   "execution_count": null,
   "metadata": {},
   "outputs": [],
   "source": [
    "string = \"Hello World    \\n\"\n",
    "\n",
    "print(\"lower(): \", string.strip().lower())\n",
    "print(\"upper(): \", string.strip().upper())\n",
    "print(\"split(): \", string.strip().split(' '), \"\\n\")\n",
    "\n",
    "print(\"string[0:5]: \", string[0:5])\n",
    "print(\"string[-10:-5]: \", string[-10:-5], \"\\n\")\n",
    "\n",
    "print(\"Is 'Hello' in string?: \", 'Hello' in string)\n",
    "print(\"string.find('Hello'): \", string.find('Hello'), \"\\n\")"
   ]
  },
  {
   "cell_type": "code",
   "execution_count": null,
   "metadata": {},
   "outputs": [],
   "source": [
    "string = \"123\"\n",
    "print(\"float(string): \", float(string))"
   ]
  },
  {
   "cell_type": "code",
   "execution_count": null,
   "metadata": {},
   "outputs": [],
   "source": [
    "string = \"{} {}\"\n",
    "print(\"string.format('Hello', 'World'): \", string.format('Hello', 'World'))"
   ]
  },
  {
   "cell_type": "code",
   "execution_count": null,
   "metadata": {},
   "outputs": [],
   "source": [
    "string0 = \"Hello \"\n",
    "string1 = \"World\"\n",
    "print(\"string0 + string1: \", string0 + string1)\n",
    "print(\"string0 * 3: \", string0 * 3)"
   ]
  },
  {
   "cell_type": "markdown",
   "metadata": {},
   "source": [
    "### Part 5: Data Structures\n",
    "\n",
    "**Lists** are resizable arrays with indices that start at 0, defined by square brackets. We use `append()` to put things into a list, `pop()` or `remove()` to remove elements from a list, `extend()` to merge two lists, and `zip()` to work with multiple lists at a time."
   ]
  },
  {
   "cell_type": "code",
   "execution_count": 9,
   "metadata": {},
   "outputs": [
    {
     "data": {
      "text/plain": [
       "[0, 11, 22, 33, 44]"
      ]
     },
     "execution_count": 9,
     "metadata": {},
     "output_type": "execute_result"
    }
   ],
   "source": [
    "list = [0,11,22,33]\n",
    "list.append(44)\n",
    "list"
   ]
  },
  {
   "cell_type": "code",
   "execution_count": 10,
   "metadata": {},
   "outputs": [
    {
     "data": {
      "text/plain": [
       "[0, 11, 33, 44]"
      ]
     },
     "execution_count": 10,
     "metadata": {},
     "output_type": "execute_result"
    }
   ],
   "source": [
    "list.pop(2) # remove element at index 2\n",
    "list"
   ]
  },
  {
   "cell_type": "code",
   "execution_count": 11,
   "metadata": {},
   "outputs": [
    {
     "data": {
      "text/plain": [
       "[0, 11, 44]"
      ]
     },
     "execution_count": 11,
     "metadata": {},
     "output_type": "execute_result"
    }
   ],
   "source": [
    "list.remove(33) # remove element by value\n",
    "list"
   ]
  },
  {
   "cell_type": "code",
   "execution_count": 12,
   "metadata": {},
   "outputs": [
    {
     "data": {
      "text/plain": [
       "[1, 2, 3, 4, 5, 6]"
      ]
     },
     "execution_count": 12,
     "metadata": {},
     "output_type": "execute_result"
    }
   ],
   "source": [
    "list1 = [1,2,3]\n",
    "list2 = [4,5,6]\n",
    "list1.extend(list2)\n",
    "list1"
   ]
  },
  {
   "cell_type": "code",
   "execution_count": 13,
   "metadata": {},
   "outputs": [
    {
     "name": "stdout",
     "output_type": "stream",
     "text": [
      "1  :  4\n",
      "2  :  5\n",
      "3  :  6\n"
     ]
    }
   ],
   "source": [
    "list1 = [1,2,3]\n",
    "list2 = [4,5,6]\n",
    "for x, y in zip(list1, list2):\n",
    "    print(x, \" : \", y)"
   ]
  },
  {
   "cell_type": "markdown",
   "metadata": {},
   "source": [
    "**Tuples** are immutable collections of data, defined with parentheses rather than square brackets. While this immutability might seem inconvenient, it means you can trust that it will never change. This is great if we want to define keys for our **dictionaries**! "
   ]
  },
  {
   "cell_type": "code",
   "execution_count": 17,
   "metadata": {},
   "outputs": [
    {
     "name": "stdout",
     "output_type": "stream",
     "text": [
      "Civic\n",
      "4\n",
      "Honda\n",
      "Civic\n",
      "4\n",
      "2019\n"
     ]
    }
   ],
   "source": [
    "tuple = ('Honda', 'Civic', '4', '2019')\n",
    "print(tuple[1])\n",
    "print(len(tuple))\n",
    "for i in tuple:\n",
    "    print(i)"
   ]
  },
  {
   "cell_type": "markdown",
   "metadata": {},
   "source": [
    "**Dictionaries** are analogous to maps in other languages like C++ and Java, holding combinations of **key-value pairs** and defined by curly brackets. Note that keys must be immutable (e.g. strings and tuples)."
   ]
  },
  {
   "cell_type": "code",
   "execution_count": 24,
   "metadata": {},
   "outputs": [
    {
     "name": "stdout",
     "output_type": "stream",
     "text": [
      "['Kung Fu Tea', 'Tapioca Express', 'ChaTime', \"Coco's\"]\n",
      "True\n",
      "False\n"
     ]
    }
   ],
   "source": [
    "# Key: tuple\n",
    "# Value: list of items\n",
    "dict = {\n",
    "    ('Bubble Tea'): [\"Kung Fu Tea\", \"Tapioca Express\", \"ChaTime\", \"Coco's\"], \n",
    "    ('Coffee'): [\"Starbucks\", \"Peet's Coffee\", \"Philz\", \"Perks\"]\n",
    "       }\n",
    "\n",
    "# Use key to get value\n",
    "x = dict.get('Bubble Tea')\n",
    "print(x)\n",
    "\n",
    "# Check if element is inside dictionary\n",
    "x = dict.get('Fake Beverage')\n",
    "print(x == None)\n",
    "print('Fake Beverage' in dict)"
   ]
  },
  {
   "cell_type": "code",
   "execution_count": 25,
   "metadata": {},
   "outputs": [
    {
     "data": {
      "text/plain": [
       "{'Bubble Tea': ['Kung Fu Tea', 'Tapioca Express', 'ChaTime', \"Coco's\"]}"
      ]
     },
     "execution_count": 25,
     "metadata": {},
     "output_type": "execute_result"
    }
   ],
   "source": [
    "# Remove an item from the dictionary\n",
    "dict.pop('Coffee')\n",
    "dict"
   ]
  },
  {
   "cell_type": "code",
   "execution_count": null,
   "metadata": {},
   "outputs": [],
   "source": []
  }
 ],
 "metadata": {
  "kernelspec": {
   "display_name": "Python 3",
   "language": "python",
   "name": "python3"
  },
  "language_info": {
   "codemirror_mode": {
    "name": "ipython",
    "version": 3
   },
   "file_extension": ".py",
   "mimetype": "text/x-python",
   "name": "python",
   "nbconvert_exporter": "python",
   "pygments_lexer": "ipython3",
   "version": "3.6.5"
  }
 },
 "nbformat": 4,
 "nbformat_minor": 2
}
